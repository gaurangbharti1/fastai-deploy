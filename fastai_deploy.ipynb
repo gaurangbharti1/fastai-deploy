{
 "cells": [
  {
   "cell_type": "code",
   "execution_count": 3,
   "metadata": {
    "colab": {
     "base_uri": "https://localhost:8080/"
    },
    "id": "uHr1AHJYPiu5",
    "outputId": "135a3095-e95f-4ef4-955c-c9ec2a5c2ac4"
   },
   "outputs": [
    {
     "name": "stderr",
     "output_type": "stream",
     "text": [
      "ERROR: pip's dependency resolver does not currently take into account all the packages that are installed. This behaviour is the source of the following dependency conflicts.\n",
      "spyder 4.1.5 requires pyqt5<5.13; python_version >= \"3\", which is not installed.\n",
      "spyder 4.1.5 requires pyqtwebengine<5.13; python_version >= \"3\", which is not installed.\n",
      "voila 0.2.10 requires nbconvert<7,>=6.0.0, but you have nbconvert 5.6.1 which is incompatible.\n"
     ]
    },
    {
     "name": "stdout",
     "output_type": "stream",
     "text": [
      "Requirement already satisfied: graphviz in d:\\anaconda3\\envs\\tf-gpu\\lib\\site-packages (0.16)\n"
     ]
    }
   ],
   "source": [
    "#hide_output\n",
    "#!pip install -Uqq fastbook\n",
    "#!pip install --user graphviz\n",
    "#import fastbook\n",
    "#fastbook.setup_book()"
   ]
  },
  {
   "cell_type": "code",
   "execution_count": 5,
   "metadata": {
    "id": "a2CcUEIZQDJL"
   },
   "outputs": [],
   "source": [
    "from fastbook import *\n",
    "from fastai.vision.widgets import *"
   ]
  },
  {
   "cell_type": "code",
   "execution_count": 4,
   "metadata": {},
   "outputs": [],
   "source": [
    "#path = Path()"
   ]
  },
  {
   "cell_type": "code",
   "execution_count": 6,
   "metadata": {},
   "outputs": [],
   "source": [
    "import pathlib\n",
    "plt = platform.system()\n",
    "if plt == 'Windows': pathlib.PosixPath = pathlib.WindowsPath\n",
    "if plt == 'Linux' : pathlib.WindowsPath = pathlib.PosixPath"
   ]
  },
  {
   "cell_type": "code",
   "execution_count": 7,
   "metadata": {
    "id": "4-dEliy0nbw3"
   },
   "outputs": [],
   "source": [
    "learn_inf = load_learner('model.pkl')"
   ]
  },
  {
   "cell_type": "code",
   "execution_count": 7,
   "metadata": {
    "colab": {
     "base_uri": "https://localhost:8080/",
     "height": 34
    },
    "id": "rRT2RtSbnlXz",
    "outputId": "2c964051-df38-4a58-9c5c-85dafd249afd"
   },
   "outputs": [],
   "source": [
    "#learn_inf.predict('animals/cat/cat.jpg')"
   ]
  },
  {
   "cell_type": "code",
   "execution_count": 8,
   "metadata": {
    "colab": {
     "base_uri": "https://localhost:8080/"
    },
    "id": "W8lhymAxn4iO",
    "outputId": "a04e0c71-4b23-4c0c-b938-2d3115d2e019"
   },
   "outputs": [],
   "source": [
    "#learn_inf.dls.vocab"
   ]
  },
  {
   "cell_type": "code",
   "execution_count": 8,
   "metadata": {
    "colab": {
     "base_uri": "https://localhost:8080/",
     "height": 49,
     "referenced_widgets": [
      "698ce6a52fe7479f8b207351483d91da",
      "c01c4cef5fd440e9ba944c5329da4cb4",
      "1a5ab0c3d66b4743b78e56cce5caf626"
     ]
    },
    "id": "9AwGIlCQoAmq",
    "outputId": "4284c1b6-845a-4921-e7c8-da8c4483dc97"
   },
   "outputs": [],
   "source": [
    "btn_upload = widgets.FileUpload()\n",
    "#btn_upload"
   ]
  },
  {
   "cell_type": "code",
   "execution_count": 10,
   "metadata": {},
   "outputs": [],
   "source": [
    "#btn_upload = SimpleNamespace(data = ['dog.jpg'])"
   ]
  },
  {
   "cell_type": "code",
   "execution_count": 11,
   "metadata": {
    "colab": {
     "base_uri": "https://localhost:8080/",
     "height": 566
    },
    "id": "At3ozZ7ooj58",
    "outputId": "b0614e3c-4918-40b8-d620-c193cec17435"
   },
   "outputs": [],
   "source": [
    "#img = PILImage.create(btn_upload.data[-1])\n",
    "#img"
   ]
  },
  {
   "cell_type": "code",
   "execution_count": 9,
   "metadata": {
    "colab": {
     "base_uri": "https://localhost:8080/",
     "height": 90,
     "referenced_widgets": [
      "0b56be300f4245f29142a72249f306c4",
      "7f93684709c7479195a372361cd1b3c6"
     ]
    },
    "id": "0xwj6uG_ortM",
    "outputId": "a64615cd-3ef4-4e6f-96fc-aa7efbd8e100"
   },
   "outputs": [],
   "source": [
    "out_pl = widgets.Output()"
   ]
  },
  {
   "cell_type": "code",
   "execution_count": 13,
   "metadata": {
    "colab": {
     "base_uri": "https://localhost:8080/",
     "height": 17
    },
    "id": "ZR-lmASwo4oP",
    "outputId": "ee286a94-da54-4dec-cb86-71f1d215811f"
   },
   "outputs": [
    {
     "data": {
      "text/html": [],
      "text/plain": [
       "<IPython.core.display.HTML object>"
      ]
     },
     "metadata": {},
     "output_type": "display_data"
    }
   ],
   "source": [
    "#pred, pred_idx, probs = learn_inf.predict(img)"
   ]
  },
  {
   "cell_type": "code",
   "execution_count": 10,
   "metadata": {
    "colab": {
     "base_uri": "https://localhost:8080/",
     "height": 49,
     "referenced_widgets": [
      "50143352f38c4081a293f4c66e6598c5",
      "b9d5a8dba5a84c4ca7c06b91d8538abf",
      "7726b4b170ff4cd6b62d601eb2c9224a"
     ]
    },
    "id": "b4hensnfo9oB",
    "outputId": "953deaf9-d708-42ba-c910-bf3b43a689a7"
   },
   "outputs": [],
   "source": [
    "lbl_pred = widgets.Label()\n",
    "#lbl_pred.value = f'Prediction: {pred}; Probability: {probs[pred_idx]: .04f}'\n",
    "#lbl_pred"
   ]
  },
  {
   "cell_type": "code",
   "execution_count": 15,
   "metadata": {
    "colab": {
     "base_uri": "https://localhost:8080/",
     "height": 49,
     "referenced_widgets": [
      "19e85fc6dc0948d187e9a6fa6b64be3c",
      "5244f5e35c724396a0bca3753148ac48",
      "01316c8d4fc3475dbb85d17e8dc1750a"
     ]
    },
    "id": "h3O7S9_3pR3Q",
    "outputId": "5097ef2a-6f94-456a-d9e8-4961dc8730c6"
   },
   "outputs": [],
   "source": [
    "#btn_run = widgets.Button(description='Classify')\n",
    "#btn_run"
   ]
  },
  {
   "cell_type": "code",
   "execution_count": 12,
   "metadata": {
    "id": "Os0KvqHBpe9A"
   },
   "outputs": [],
   "source": [
    "def on_click_classify(change):\n",
    "  img = PILImage.create(btn_upload.data[-1])\n",
    "  out_pl.clear_output()\n",
    "  with out_pl: display(img.to_thumb(128, 128))\n",
    "  pred, pred_idx, probs = learn_inf.predict(img)\n",
    "  lbl_pred.value = f'Prediction: {pred}; Probability: {probs[pred_idx]:.04f}'\n",
    "\n",
    "#btn_run.on_click(on_click_classify)"
   ]
  },
  {
   "cell_type": "code",
   "execution_count": 13,
   "metadata": {
    "id": "cayOjIT8qK5u"
   },
   "outputs": [],
   "source": [
    "btn_upload.observe(on_click_classify, names=['data'])"
   ]
  },
  {
   "cell_type": "code",
   "execution_count": 14,
   "metadata": {
    "colab": {
     "base_uri": "https://localhost:8080/",
     "height": 218,
     "referenced_widgets": [
      "09214829818d45588b1f91782d58212e",
      "e011b84f4ce64ba2bb0ab7bd1c74c6fa",
      "b83f972022814a3a95ce1c6b935da69b",
      "f8589d5d48774ec8902771b1d6a5a295",
      "19e85fc6dc0948d187e9a6fa6b64be3c",
      "0b56be300f4245f29142a72249f306c4",
      "50143352f38c4081a293f4c66e6598c5",
      "603ccc6d0973401bb89dd8fb67860bdf",
      "afc57bb3cde44cfc902861c8b4f24eb2",
      "ab22973b6e3e4542a1b50ed87a96d8e9",
      "fef5ca15f4574adcb6e54b9de96dc5e3",
      "5244f5e35c724396a0bca3753148ac48",
      "01316c8d4fc3475dbb85d17e8dc1750a",
      "b9d5a8dba5a84c4ca7c06b91d8538abf",
      "7726b4b170ff4cd6b62d601eb2c9224a",
      "7f93684709c7479195a372361cd1b3c6"
     ]
    },
    "id": "WuPqHOLGqPM1",
    "outputId": "9725aa1b-07f5-40d9-97c5-0033e0e57453"
   },
   "outputs": [],
   "source": [
    "desLbl = widgets.Label('Select your animal')"
   ]
  },
  {
   "cell_type": "code",
   "execution_count": 15,
   "metadata": {},
   "outputs": [
    {
     "data": {
      "application/vnd.jupyter.widget-view+json": {
       "model_id": "d8cdf4ae0bd34802a2f93917a7a6dad5",
       "version_major": 2,
       "version_minor": 0
      },
      "text/plain": [
       "VBox(children=(Label(value='Select your animal'), FileUpload(value={}, description='Upload'), Output(), Label(…"
      ]
     },
     "metadata": {},
     "output_type": "display_data"
    },
    {
     "data": {
      "text/html": [],
      "text/plain": [
       "<IPython.core.display.HTML object>"
      ]
     },
     "metadata": {},
     "output_type": "display_data"
    }
   ],
   "source": [
    "display(VBox([desLbl,\n",
    "             btn_upload, out_pl, lbl_pred]))"
   ]
  },
  {
   "cell_type": "code",
   "execution_count": 2,
   "metadata": {
    "colab": {
     "base_uri": "https://localhost:8080/",
     "height": 1000
    },
    "id": "zCxNSB-7qpOu",
    "outputId": "3077a70f-ecf6-4e96-f2ac-1d44bffbfcf7",
    "tags": [
     "{",
     "\"tags\":",
     "[",
     "\"hide-output\"",
     "]",
     "}"
    ]
   },
   "outputs": [
    {
     "name": "stderr",
     "output_type": "stream",
     "text": [
      "Enabling: voila\n",
      "- Writing config: D:\\Anaconda3\\envs\\tf-gpu\\etc\\jupyter\n",
      "    - Validating...\n",
      "      voila 0.2.10 ok\n"
     ]
    }
   ],
   "source": [
    "#hide-output\n",
    "#!pip -q install voila \n",
    "#!jupyter serverextension enable --sys-prefix voila --VoilaConfiguration.enable_nbextensions=True "
   ]
  }
 ],
 "metadata": {
  "accelerator": "GPU",
  "colab": {
   "name": "fastai-deploy.ipynb",
   "provenance": []
  },
  "kernelspec": {
   "display_name": "Python 3",
   "language": "python",
   "name": "python3"
  },
  "language_info": {
   "codemirror_mode": {
    "name": "ipython",
    "version": 3
   },
   "file_extension": ".py",
   "mimetype": "text/x-python",
   "name": "python",
   "nbconvert_exporter": "python",
   "pygments_lexer": "ipython3",
   "version": "3.8.5"
  },
  "widgets": {
   "application/vnd.jupyter.widget-state+json": {
    "01316c8d4fc3475dbb85d17e8dc1750a": {
     "model_module": "@jupyter-widgets/base",
     "model_name": "LayoutModel",
     "state": {
      "_model_module": "@jupyter-widgets/base",
      "_model_module_version": "1.2.0",
      "_model_name": "LayoutModel",
      "_view_count": null,
      "_view_module": "@jupyter-widgets/base",
      "_view_module_version": "1.2.0",
      "_view_name": "LayoutView",
      "align_content": null,
      "align_items": null,
      "align_self": null,
      "border": null,
      "bottom": null,
      "display": null,
      "flex": null,
      "flex_flow": null,
      "grid_area": null,
      "grid_auto_columns": null,
      "grid_auto_flow": null,
      "grid_auto_rows": null,
      "grid_column": null,
      "grid_gap": null,
      "grid_row": null,
      "grid_template_areas": null,
      "grid_template_columns": null,
      "grid_template_rows": null,
      "height": null,
      "justify_content": null,
      "justify_items": null,
      "left": null,
      "margin": null,
      "max_height": null,
      "max_width": null,
      "min_height": null,
      "min_width": null,
      "object_fit": null,
      "object_position": null,
      "order": null,
      "overflow": null,
      "overflow_x": null,
      "overflow_y": null,
      "padding": null,
      "right": null,
      "top": null,
      "visibility": null,
      "width": null
     }
    },
    "09214829818d45588b1f91782d58212e": {
     "model_module": "@jupyter-widgets/controls",
     "model_name": "VBoxModel",
     "state": {
      "_dom_classes": [],
      "_model_module": "@jupyter-widgets/controls",
      "_model_module_version": "1.5.0",
      "_model_name": "VBoxModel",
      "_view_count": null,
      "_view_module": "@jupyter-widgets/controls",
      "_view_module_version": "1.5.0",
      "_view_name": "VBoxView",
      "box_style": "",
      "children": [
       "IPY_MODEL_b83f972022814a3a95ce1c6b935da69b",
       "IPY_MODEL_f8589d5d48774ec8902771b1d6a5a295",
       "IPY_MODEL_19e85fc6dc0948d187e9a6fa6b64be3c",
       "IPY_MODEL_0b56be300f4245f29142a72249f306c4",
       "IPY_MODEL_50143352f38c4081a293f4c66e6598c5"
      ],
      "layout": "IPY_MODEL_e011b84f4ce64ba2bb0ab7bd1c74c6fa"
     }
    },
    "0b56be300f4245f29142a72249f306c4": {
     "model_module": "@jupyter-widgets/output",
     "model_name": "OutputModel",
     "state": {
      "_dom_classes": [],
      "_model_module": "@jupyter-widgets/output",
      "_model_module_version": "1.0.0",
      "_model_name": "OutputModel",
      "_view_count": null,
      "_view_module": "@jupyter-widgets/output",
      "_view_module_version": "1.0.0",
      "_view_name": "OutputView",
      "layout": "IPY_MODEL_7f93684709c7479195a372361cd1b3c6",
      "msg_id": "",
      "outputs": [
       {
        "image/png": "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\n",
        "metadata": {
         "tags": []
        },
        "output_type": "display_data",
        "text/plain": "<PIL.Image.Image image mode=RGB size=128x73 at 0x7FCD10B17910>"
       }
      ]
     }
    },
    "19e85fc6dc0948d187e9a6fa6b64be3c": {
     "model_module": "@jupyter-widgets/controls",
     "model_name": "ButtonModel",
     "state": {
      "_dom_classes": [],
      "_model_module": "@jupyter-widgets/controls",
      "_model_module_version": "1.5.0",
      "_model_name": "ButtonModel",
      "_view_count": null,
      "_view_module": "@jupyter-widgets/controls",
      "_view_module_version": "1.5.0",
      "_view_name": "ButtonView",
      "button_style": "",
      "description": "Classify",
      "disabled": false,
      "icon": "",
      "layout": "IPY_MODEL_01316c8d4fc3475dbb85d17e8dc1750a",
      "style": "IPY_MODEL_5244f5e35c724396a0bca3753148ac48",
      "tooltip": ""
     }
    },
    "1a5ab0c3d66b4743b78e56cce5caf626": {
     "model_module": "@jupyter-widgets/base",
     "model_name": "LayoutModel",
     "state": {
      "_model_module": "@jupyter-widgets/base",
      "_model_module_version": "1.2.0",
      "_model_name": "LayoutModel",
      "_view_count": null,
      "_view_module": "@jupyter-widgets/base",
      "_view_module_version": "1.2.0",
      "_view_name": "LayoutView",
      "align_content": null,
      "align_items": null,
      "align_self": null,
      "border": null,
      "bottom": null,
      "display": null,
      "flex": null,
      "flex_flow": null,
      "grid_area": null,
      "grid_auto_columns": null,
      "grid_auto_flow": null,
      "grid_auto_rows": null,
      "grid_column": null,
      "grid_gap": null,
      "grid_row": null,
      "grid_template_areas": null,
      "grid_template_columns": null,
      "grid_template_rows": null,
      "height": null,
      "justify_content": null,
      "justify_items": null,
      "left": null,
      "margin": null,
      "max_height": null,
      "max_width": null,
      "min_height": null,
      "min_width": null,
      "object_fit": null,
      "object_position": null,
      "order": null,
      "overflow": null,
      "overflow_x": null,
      "overflow_y": null,
      "padding": null,
      "right": null,
      "top": null,
      "visibility": null,
      "width": null
     }
    },
    "50143352f38c4081a293f4c66e6598c5": {
     "model_module": "@jupyter-widgets/controls",
     "model_name": "LabelModel",
     "state": {
      "_dom_classes": [],
      "_model_module": "@jupyter-widgets/controls",
      "_model_module_version": "1.5.0",
      "_model_name": "LabelModel",
      "_view_count": null,
      "_view_module": "@jupyter-widgets/controls",
      "_view_module_version": "1.5.0",
      "_view_name": "LabelView",
      "description": "",
      "description_tooltip": null,
      "layout": "IPY_MODEL_7726b4b170ff4cd6b62d601eb2c9224a",
      "placeholder": "​",
      "style": "IPY_MODEL_b9d5a8dba5a84c4ca7c06b91d8538abf",
      "value": "Prediction: dog; Probability: 1.0000"
     }
    },
    "5244f5e35c724396a0bca3753148ac48": {
     "model_module": "@jupyter-widgets/controls",
     "model_name": "ButtonStyleModel",
     "state": {
      "_model_module": "@jupyter-widgets/controls",
      "_model_module_version": "1.5.0",
      "_model_name": "ButtonStyleModel",
      "_view_count": null,
      "_view_module": "@jupyter-widgets/base",
      "_view_module_version": "1.2.0",
      "_view_name": "StyleView",
      "button_color": null,
      "font_weight": ""
     }
    },
    "603ccc6d0973401bb89dd8fb67860bdf": {
     "model_module": "@jupyter-widgets/controls",
     "model_name": "DescriptionStyleModel",
     "state": {
      "_model_module": "@jupyter-widgets/controls",
      "_model_module_version": "1.5.0",
      "_model_name": "DescriptionStyleModel",
      "_view_count": null,
      "_view_module": "@jupyter-widgets/base",
      "_view_module_version": "1.2.0",
      "_view_name": "StyleView",
      "description_width": ""
     }
    },
    "698ce6a52fe7479f8b207351483d91da": {
     "model_module": "@jupyter-widgets/controls",
     "model_name": "FileUploadModel",
     "state": {
      "_counter": 1,
      "_dom_classes": [],
      "_model_module": "@jupyter-widgets/controls",
      "_model_module_version": "1.5.0",
      "_model_name": "FileUploadModel",
      "_view_count": null,
      "_view_module": "@jupyter-widgets/controls",
      "_view_module_version": "1.5.0",
      "_view_name": "FileUploadView",
      "accept": "",
      "button_style": "",
      "data": [
       null
      ],
      "description": "Upload",
      "description_tooltip": null,
      "disabled": false,
      "error": "",
      "icon": "upload",
      "layout": "IPY_MODEL_1a5ab0c3d66b4743b78e56cce5caf626",
      "metadata": [
       {
        "lastModified": 1621694226278,
        "name": "cat.jpg",
        "size": 56803,
        "type": "image/jpeg"
       }
      ],
      "multiple": false,
      "style": "IPY_MODEL_c01c4cef5fd440e9ba944c5329da4cb4"
     }
    },
    "7726b4b170ff4cd6b62d601eb2c9224a": {
     "model_module": "@jupyter-widgets/base",
     "model_name": "LayoutModel",
     "state": {
      "_model_module": "@jupyter-widgets/base",
      "_model_module_version": "1.2.0",
      "_model_name": "LayoutModel",
      "_view_count": null,
      "_view_module": "@jupyter-widgets/base",
      "_view_module_version": "1.2.0",
      "_view_name": "LayoutView",
      "align_content": null,
      "align_items": null,
      "align_self": null,
      "border": null,
      "bottom": null,
      "display": null,
      "flex": null,
      "flex_flow": null,
      "grid_area": null,
      "grid_auto_columns": null,
      "grid_auto_flow": null,
      "grid_auto_rows": null,
      "grid_column": null,
      "grid_gap": null,
      "grid_row": null,
      "grid_template_areas": null,
      "grid_template_columns": null,
      "grid_template_rows": null,
      "height": null,
      "justify_content": null,
      "justify_items": null,
      "left": null,
      "margin": null,
      "max_height": null,
      "max_width": null,
      "min_height": null,
      "min_width": null,
      "object_fit": null,
      "object_position": null,
      "order": null,
      "overflow": null,
      "overflow_x": null,
      "overflow_y": null,
      "padding": null,
      "right": null,
      "top": null,
      "visibility": null,
      "width": null
     }
    },
    "7f93684709c7479195a372361cd1b3c6": {
     "model_module": "@jupyter-widgets/base",
     "model_name": "LayoutModel",
     "state": {
      "_model_module": "@jupyter-widgets/base",
      "_model_module_version": "1.2.0",
      "_model_name": "LayoutModel",
      "_view_count": null,
      "_view_module": "@jupyter-widgets/base",
      "_view_module_version": "1.2.0",
      "_view_name": "LayoutView",
      "align_content": null,
      "align_items": null,
      "align_self": null,
      "border": null,
      "bottom": null,
      "display": null,
      "flex": null,
      "flex_flow": null,
      "grid_area": null,
      "grid_auto_columns": null,
      "grid_auto_flow": null,
      "grid_auto_rows": null,
      "grid_column": null,
      "grid_gap": null,
      "grid_row": null,
      "grid_template_areas": null,
      "grid_template_columns": null,
      "grid_template_rows": null,
      "height": null,
      "justify_content": null,
      "justify_items": null,
      "left": null,
      "margin": null,
      "max_height": null,
      "max_width": null,
      "min_height": null,
      "min_width": null,
      "object_fit": null,
      "object_position": null,
      "order": null,
      "overflow": null,
      "overflow_x": null,
      "overflow_y": null,
      "padding": null,
      "right": null,
      "top": null,
      "visibility": null,
      "width": null
     }
    },
    "ab22973b6e3e4542a1b50ed87a96d8e9": {
     "model_module": "@jupyter-widgets/controls",
     "model_name": "ButtonStyleModel",
     "state": {
      "_model_module": "@jupyter-widgets/controls",
      "_model_module_version": "1.5.0",
      "_model_name": "ButtonStyleModel",
      "_view_count": null,
      "_view_module": "@jupyter-widgets/base",
      "_view_module_version": "1.2.0",
      "_view_name": "StyleView",
      "button_color": null,
      "font_weight": ""
     }
    },
    "afc57bb3cde44cfc902861c8b4f24eb2": {
     "model_module": "@jupyter-widgets/base",
     "model_name": "LayoutModel",
     "state": {
      "_model_module": "@jupyter-widgets/base",
      "_model_module_version": "1.2.0",
      "_model_name": "LayoutModel",
      "_view_count": null,
      "_view_module": "@jupyter-widgets/base",
      "_view_module_version": "1.2.0",
      "_view_name": "LayoutView",
      "align_content": null,
      "align_items": null,
      "align_self": null,
      "border": null,
      "bottom": null,
      "display": null,
      "flex": null,
      "flex_flow": null,
      "grid_area": null,
      "grid_auto_columns": null,
      "grid_auto_flow": null,
      "grid_auto_rows": null,
      "grid_column": null,
      "grid_gap": null,
      "grid_row": null,
      "grid_template_areas": null,
      "grid_template_columns": null,
      "grid_template_rows": null,
      "height": null,
      "justify_content": null,
      "justify_items": null,
      "left": null,
      "margin": null,
      "max_height": null,
      "max_width": null,
      "min_height": null,
      "min_width": null,
      "object_fit": null,
      "object_position": null,
      "order": null,
      "overflow": null,
      "overflow_x": null,
      "overflow_y": null,
      "padding": null,
      "right": null,
      "top": null,
      "visibility": null,
      "width": null
     }
    },
    "b83f972022814a3a95ce1c6b935da69b": {
     "model_module": "@jupyter-widgets/controls",
     "model_name": "LabelModel",
     "state": {
      "_dom_classes": [],
      "_model_module": "@jupyter-widgets/controls",
      "_model_module_version": "1.5.0",
      "_model_name": "LabelModel",
      "_view_count": null,
      "_view_module": "@jupyter-widgets/controls",
      "_view_module_version": "1.5.0",
      "_view_name": "LabelView",
      "description": "",
      "description_tooltip": null,
      "layout": "IPY_MODEL_afc57bb3cde44cfc902861c8b4f24eb2",
      "placeholder": "​",
      "style": "IPY_MODEL_603ccc6d0973401bb89dd8fb67860bdf",
      "value": "Select your animal!"
     }
    },
    "b9d5a8dba5a84c4ca7c06b91d8538abf": {
     "model_module": "@jupyter-widgets/controls",
     "model_name": "DescriptionStyleModel",
     "state": {
      "_model_module": "@jupyter-widgets/controls",
      "_model_module_version": "1.5.0",
      "_model_name": "DescriptionStyleModel",
      "_view_count": null,
      "_view_module": "@jupyter-widgets/base",
      "_view_module_version": "1.2.0",
      "_view_name": "StyleView",
      "description_width": ""
     }
    },
    "c01c4cef5fd440e9ba944c5329da4cb4": {
     "model_module": "@jupyter-widgets/controls",
     "model_name": "ButtonStyleModel",
     "state": {
      "_model_module": "@jupyter-widgets/controls",
      "_model_module_version": "1.5.0",
      "_model_name": "ButtonStyleModel",
      "_view_count": null,
      "_view_module": "@jupyter-widgets/base",
      "_view_module_version": "1.2.0",
      "_view_name": "StyleView",
      "button_color": null,
      "font_weight": ""
     }
    },
    "e011b84f4ce64ba2bb0ab7bd1c74c6fa": {
     "model_module": "@jupyter-widgets/base",
     "model_name": "LayoutModel",
     "state": {
      "_model_module": "@jupyter-widgets/base",
      "_model_module_version": "1.2.0",
      "_model_name": "LayoutModel",
      "_view_count": null,
      "_view_module": "@jupyter-widgets/base",
      "_view_module_version": "1.2.0",
      "_view_name": "LayoutView",
      "align_content": null,
      "align_items": null,
      "align_self": null,
      "border": null,
      "bottom": null,
      "display": null,
      "flex": null,
      "flex_flow": null,
      "grid_area": null,
      "grid_auto_columns": null,
      "grid_auto_flow": null,
      "grid_auto_rows": null,
      "grid_column": null,
      "grid_gap": null,
      "grid_row": null,
      "grid_template_areas": null,
      "grid_template_columns": null,
      "grid_template_rows": null,
      "height": null,
      "justify_content": null,
      "justify_items": null,
      "left": null,
      "margin": null,
      "max_height": null,
      "max_width": null,
      "min_height": null,
      "min_width": null,
      "object_fit": null,
      "object_position": null,
      "order": null,
      "overflow": null,
      "overflow_x": null,
      "overflow_y": null,
      "padding": null,
      "right": null,
      "top": null,
      "visibility": null,
      "width": null
     }
    },
    "f8589d5d48774ec8902771b1d6a5a295": {
     "model_module": "@jupyter-widgets/controls",
     "model_name": "FileUploadModel",
     "state": {
      "_counter": 1,
      "_dom_classes": [],
      "_model_module": "@jupyter-widgets/controls",
      "_model_module_version": "1.5.0",
      "_model_name": "FileUploadModel",
      "_view_count": null,
      "_view_module": "@jupyter-widgets/controls",
      "_view_module_version": "1.5.0",
      "_view_name": "FileUploadView",
      "accept": "",
      "button_style": "",
      "data": [
       null
      ],
      "description": "Upload",
      "description_tooltip": null,
      "disabled": false,
      "error": "",
      "icon": "upload",
      "layout": "IPY_MODEL_fef5ca15f4574adcb6e54b9de96dc5e3",
      "metadata": [
       {
        "lastModified": 1621780728294,
        "name": "dog.jpg",
        "size": 51106,
        "type": "image/jpeg"
       }
      ],
      "multiple": false,
      "style": "IPY_MODEL_ab22973b6e3e4542a1b50ed87a96d8e9"
     }
    },
    "fef5ca15f4574adcb6e54b9de96dc5e3": {
     "model_module": "@jupyter-widgets/base",
     "model_name": "LayoutModel",
     "state": {
      "_model_module": "@jupyter-widgets/base",
      "_model_module_version": "1.2.0",
      "_model_name": "LayoutModel",
      "_view_count": null,
      "_view_module": "@jupyter-widgets/base",
      "_view_module_version": "1.2.0",
      "_view_name": "LayoutView",
      "align_content": null,
      "align_items": null,
      "align_self": null,
      "border": null,
      "bottom": null,
      "display": null,
      "flex": null,
      "flex_flow": null,
      "grid_area": null,
      "grid_auto_columns": null,
      "grid_auto_flow": null,
      "grid_auto_rows": null,
      "grid_column": null,
      "grid_gap": null,
      "grid_row": null,
      "grid_template_areas": null,
      "grid_template_columns": null,
      "grid_template_rows": null,
      "height": null,
      "justify_content": null,
      "justify_items": null,
      "left": null,
      "margin": null,
      "max_height": null,
      "max_width": null,
      "min_height": null,
      "min_width": null,
      "object_fit": null,
      "object_position": null,
      "order": null,
      "overflow": null,
      "overflow_x": null,
      "overflow_y": null,
      "padding": null,
      "right": null,
      "top": null,
      "visibility": null,
      "width": null
     }
    }
   }
  }
 },
 "nbformat": 4,
 "nbformat_minor": 1
}
